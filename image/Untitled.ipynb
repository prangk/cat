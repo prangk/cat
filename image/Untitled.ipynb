{
 "cells": [
  {
   "cell_type": "code",
   "execution_count": 8,
   "id": "deadly-papua",
   "metadata": {},
   "outputs": [],
   "source": [
    "from os import listdir\n",
    "from os.path import isfile, join\n",
    "import os\n",
    "onlyfiles = [f for f in listdir(os.getcwd()) if isfile(join(os.getcwd(), f))]"
   ]
  },
  {
   "cell_type": "code",
   "execution_count": 15,
   "id": "associate-lotus",
   "metadata": {},
   "outputs": [],
   "source": [
    "import base64\n",
    "\n",
    "cats = []\n",
    "with open('cats.json', \"w\") as write_file:\n",
    "    for file in onlyfiles:\n",
    "        if '.jpg' in file and 'bg' not in file:\n",
    "            cat = {\n",
    "                    'breed_name' : file.split('.')[0],\n",
    "                    }\n",
    "            with open(file, \"rb\") as img_file:\n",
    "                \n",
    "                b64_string = base64.b64encode(img_file.read())\n",
    "                b64 ='data:image/jpeg;charset=utf-8;base64, ' + b64_string.decode('utf-8')\n",
    "                cat['image'] = b64\n",
    "                \n",
    "            with open(file, \"rb\") as img_file:\n",
    "                \n",
    "                b64_string = base64.b64encode(img_file.read())\n",
    "                b64 ='data:image/jpeg;charset=utf-8;base64, ' + b64_string.decode('utf-8')\n",
    "                cat['image'] = b64\n",
    "            cats.append(\n",
    "                \n",
    "                \n"
   ]
  },
  {
   "cell_type": "code",
   "execution_count": 16,
   "id": "disturbed-advocacy",
   "metadata": {},
   "outputs": [],
   "source": [
    "import json\n",
    "\n",
    "with open('cats.json', 'w', encoding='utf-8') as filehandle:\n",
    "    json.dump(cats, filehandle, indent=4, ensure_ascii=False)"
   ]
  },
  {
   "cell_type": "code",
   "execution_count": null,
   "id": "interracial-psychology",
   "metadata": {},
   "outputs": [],
   "source": []
  }
 ],
 "metadata": {
  "kernelspec": {
   "display_name": "test_py38",
   "language": "python",
   "name": "test_py38"
  },
  "language_info": {
   "codemirror_mode": {
    "name": "ipython",
    "version": 3
   },
   "file_extension": ".py",
   "mimetype": "text/x-python",
   "name": "python",
   "nbconvert_exporter": "python",
   "pygments_lexer": "ipython3",
   "version": "3.8.7"
  }
 },
 "nbformat": 4,
 "nbformat_minor": 5
}
